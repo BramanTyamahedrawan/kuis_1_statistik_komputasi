{
  "nbformat": 4,
  "nbformat_minor": 0,
  "metadata": {
    "colab": {
      "provenance": [],
      "mount_file_id": "1Oj-W9paTr8kKQ4aRRb-Sizb2i4PEqd2b",
      "authorship_tag": "ABX9TyPoF/tZWgiElBN1TbcuQhno",
      "include_colab_link": true
    },
    "kernelspec": {
      "name": "python3",
      "display_name": "Python 3"
    },
    "language_info": {
      "name": "python"
    }
  },
  "cells": [
    {
      "cell_type": "markdown",
      "metadata": {
        "id": "view-in-github",
        "colab_type": "text"
      },
      "source": [
        "<a href=\"https://colab.research.google.com/github/BramanTyamahedrawan/kuis_1_statistik_komputasi/blob/main/Source%20Code%20Kuis%201%20Statistik%20Komputasi.ipynb\" target=\"_parent\"><img src=\"https://colab.research.google.com/assets/colab-badge.svg\" alt=\"Open In Colab\"/></a>"
      ]
    },
    {
      "cell_type": "code",
      "source": [
        "from google.colab import drive\n",
        "import pandas as pd\n",
        "\n",
        "# mengakses Google Drive\n",
        "drive.mount('/content/drive')\n",
        "\n",
        "# membaca file csv menggunakan pandas\n",
        "nama_file = '/content/drive/MyDrive/Classroom/ecommerce_lite.csv'\n",
        "data = pd.read_csv(nama_file)\n",
        "\n",
        "# menampilkan isi file\n",
        "print(data.head())\n"
      ],
      "metadata": {
        "colab": {
          "base_uri": "https://localhost:8080/"
        },
        "id": "NYV4w46qneA_",
        "outputId": "647bd9d7-4440-4569-9d9a-a7782709fc7e"
      },
      "execution_count": 1,
      "outputs": [
        {
          "output_type": "stream",
          "name": "stdout",
          "text": [
            "Drive already mounted at /content/drive; to attempt to forcibly remount, call drive.mount(\"/content/drive\", force_remount=True).\n",
            "   InvoiceNo StockCode                      Description  Quantity  \\\n",
            "0     572300     22423         REGENCY CAKESTAND 3 TIER       2.0   \n",
            "1     568984     22505        MEMO BOARD COTTAGE DESIGN       1.0   \n",
            "2     573333    84997D  CHILDRENS CUTLERY POLKADOT PINK       4.0   \n",
            "3     551988     22673    FRENCH GARDEN SIGN BLUE METAL      12.0   \n",
            "4     572070     21137         BLACK RECORD COVER FRAME      24.0   \n",
            "\n",
            "        InvoiceDate  UnitPrice  CustomerID         Country  \n",
            "0  10/23/2011 14:40      12.75     18005.0  United Kingdom  \n",
            "1   9/29/2011 15:57       4.95     17813.0  United Kingdom  \n",
            "2  10/30/2011 11:34       4.15     12483.0          Sweden  \n",
            "3    5/5/2011 15:08       1.25     12576.0          Poland  \n",
            "4  10/20/2011 13:37       3.39     15587.0  United Kingdom  \n"
          ]
        }
      ]
    },
    {
      "cell_type": "code",
      "source": [
        "import pandas as pd\n",
        "import statistics\n",
        "\n",
        "# membaca file csv menggunakan pandas\n",
        "data = pd.read_csv('/content/drive/MyDrive/Classroom/ecommerce_lite.csv')\n",
        "\n",
        "# menghitung nilai mean\n",
        "mean_quantity = data['Quantity'].mean()\n",
        "\n",
        "# menghitung nilai median\n",
        "median_quantity = data['Quantity'].median()\n",
        "\n",
        "# menghitung nilai modus\n",
        "modus_quantity = statistics.mode(data['Quantity'])\n",
        "\n",
        "# menampilkan hasil perhitungan\n",
        "print(\"Nilai mean quantity: \", mean_quantity)\n",
        "print(\"Nilai median quantity: \", median_quantity)\n",
        "print(\"Nilai modus quantity: \", modus_quantity)\n"
      ],
      "metadata": {
        "colab": {
          "base_uri": "https://localhost:8080/"
        },
        "id": "UgH6MUt8oHYD",
        "outputId": "0cf07f30-de21-4d66-a8e4-7eb4b4affffe"
      },
      "execution_count": null,
      "outputs": [
        {
          "output_type": "stream",
          "name": "stdout",
          "text": [
            "Nilai mean quantity:  12.582400852553855\n",
            "Nilai median quantity:  6.0\n",
            "Nilai modus quantity:  1.0\n"
          ]
        }
      ]
    },
    {
      "cell_type": "code",
      "source": [
        "import pandas as pd\n",
        "import statistics\n",
        "\n",
        "# membaca file csv menggunakan pandas\n",
        "data = pd.read_csv('/content/drive/MyDrive/Classroom/ecommerce_lite.csv')\n",
        "\n",
        "# filter data berdasarkan stok kode 22423\n",
        "data_22423 = data[data['StockCode'] == '22423']\n",
        "\n",
        "# menghitung nilai mean\n",
        "mean_quantity = data_22423['Quantity'].mean()\n",
        "\n",
        "# menghitung nilai median\n",
        "median_quantity = data_22423['Quantity'].median()\n",
        "\n",
        "# menghitung nilai modus\n",
        "modus_quantity = statistics.mode(data_22423['Quantity'])\n",
        "\n",
        "# menampilkan hasil perhitungan\n",
        "print(\"Nilai mean quantity dengan stok kode 22423: \", mean_quantity)\n",
        "print(\"Nilai median quantity dengan stok kode 22423: \", median_quantity)\n",
        "print(\"Nilai modus quantity dengan stok kode 22423: \", modus_quantity)\n"
      ],
      "metadata": {
        "colab": {
          "base_uri": "https://localhost:8080/"
        },
        "id": "1-ZGRYiZopZH",
        "outputId": "30b6045d-9430-40e8-c9cd-186499385568"
      },
      "execution_count": null,
      "outputs": [
        {
          "output_type": "stream",
          "name": "stdout",
          "text": [
            "Nilai mean quantity dengan stok kode 22423:  6.716049382716049\n",
            "Nilai median quantity dengan stok kode 22423:  2.0\n",
            "Nilai modus quantity dengan stok kode 22423:  1.0\n"
          ]
        }
      ]
    },
    {
      "cell_type": "code",
      "source": [
        "import pandas as pd\n",
        "import numpy as np\n",
        "\n",
        "# membaca file csv menggunakan pandas\n",
        "data = pd.read_csv('/content/drive/MyDrive/Classroom/ecommerce_lite.csv')\n",
        "\n",
        "# filter data berdasarkan stok kode 22423\n",
        "data_22423 = data[data['StockCode'] == '22423']\n",
        "\n",
        "# menghitung nilai Q1, Q2 (median), dan Q3\n",
        "Q1 = np.percentile(data_22423['Quantity'], 25)\n",
        "Q2 = np.percentile(data_22423['Quantity'], 50)\n",
        "Q3 = np.percentile(data_22423['Quantity'], 75)\n",
        "\n",
        "# menghitung nilai IQR\n",
        "IQR = Q3 - Q1\n",
        "\n",
        "# menampilkan hasil perhitungan\n",
        "print(\"Nilai Q1 dari quantity dengan stok kode 22423: \", Q1)\n",
        "print(\"Nilai median (Q2) dari quantity dengan stok kode 22423: \", Q2)\n",
        "print(\"Nilai Q3 dari quantity dengan stok kode 22423: \", Q3)\n",
        "print(\"Nilai IQR dari quantity dengan stok kode 22423: \", IQR)\n"
      ],
      "metadata": {
        "colab": {
          "base_uri": "https://localhost:8080/"
        },
        "id": "q3blkFBjpmam",
        "outputId": "53554207-f31c-4044-d505-14535ae13cb6"
      },
      "execution_count": null,
      "outputs": [
        {
          "output_type": "stream",
          "name": "stdout",
          "text": [
            "Nilai Q1 dari quantity dengan stok kode 22423:  1.0\n",
            "Nilai median (Q2) dari quantity dengan stok kode 22423:  2.0\n",
            "Nilai Q3 dari quantity dengan stok kode 22423:  4.0\n",
            "Nilai IQR dari quantity dengan stok kode 22423:  3.0\n"
          ]
        }
      ]
    },
    {
      "cell_type": "code",
      "source": [
        "import pandas as pd\n",
        "import numpy as np\n",
        "\n",
        "# membaca file csv menggunakan pandas\n",
        "data = pd.read_csv('/content/drive/MyDrive/Classroom/ecommerce_lite.csv')\n",
        "\n",
        "# filter data berdasarkan stok kode 22423\n",
        "data_22423 = data[data['StockCode'] == '22423']\n",
        "\n",
        "# menghitung nilai Q1, Q2 (median), dan Q3\n",
        "Q1 = np.percentile(data_22423['Quantity'], 25)\n",
        "Q3 = np.percentile(data_22423['Quantity'], 75)\n",
        "\n",
        "# menghitung nilai batas bawah (lower fence) dan batas atas (upper fence)\n",
        "IQR = Q3 - Q1\n",
        "lower_fence = Q1 - (1.5 * IQR)\n",
        "upper_fence = Q3 + (1.5 * IQR)\n",
        "\n",
        "# mencari outlier\n",
        "outliers = data_22423[(data_22423['Quantity'] < lower_fence) | (data_22423['Quantity'] > upper_fence)]\n",
        "\n",
        "# menampilkan hasil perhitungan\n",
        "print(\"Batas bawah (lower fence): \", lower_fence)\n",
        "print(\"Batas atas (upper fence): \", upper_fence)\n",
        "print(\"Jumlah outlier: \", outliers.shape[0])\n",
        "print(outliers)"
      ],
      "metadata": {
        "colab": {
          "base_uri": "https://localhost:8080/"
        },
        "id": "f9XB5taNqaUF",
        "outputId": "df3f75f4-4633-4620-e01b-8eb8aa6472f5"
      },
      "execution_count": null,
      "outputs": [
        {
          "output_type": "stream",
          "name": "stdout",
          "text": [
            "Batas bawah (lower fence):  -3.5\n",
            "Batas atas (upper fence):  8.5\n",
            "Jumlah outlier:  26\n",
            "       InvoiceNo StockCode               Description  Quantity  \\\n",
            "1338      544929     22423  REGENCY CAKESTAND 3 TIER      16.0   \n",
            "2321      547939     22423  REGENCY CAKESTAND 3 TIER      10.0   \n",
            "2672      541932     22423  REGENCY CAKESTAND 3 TIER      16.0   \n",
            "3170      553551     22423  REGENCY CAKESTAND 3 TIER      20.0   \n",
            "4166      542373     22423  REGENCY CAKESTAND 3 TIER      16.0   \n",
            "5039      546768     22423  REGENCY CAKESTAND 3 TIER      16.0   \n",
            "5374      544081     22423  REGENCY CAKESTAND 3 TIER      32.0   \n",
            "5427      579190     22423  REGENCY CAKESTAND 3 TIER      10.0   \n",
            "7813      541172     22423  REGENCY CAKESTAND 3 TIER      16.0   \n",
            "9679      539587     22423  REGENCY CAKESTAND 3 TIER      16.0   \n",
            "15857     574777     22423  REGENCY CAKESTAND 3 TIER      16.0   \n",
            "17924     549187     22423  REGENCY CAKESTAND 3 TIER      16.0   \n",
            "21634     545340     22423  REGENCY CAKESTAND 3 TIER      12.0   \n",
            "24548     563614     22423  REGENCY CAKESTAND 3 TIER      32.0   \n",
            "25291     549751     22423  REGENCY CAKESTAND 3 TIER      12.0   \n",
            "26609     574907     22423  REGENCY CAKESTAND 3 TIER      16.0   \n",
            "27841     560038     22423  REGENCY CAKESTAND 3 TIER      32.0   \n",
            "28374     539275     22423  REGENCY CAKESTAND 3 TIER      16.0   \n",
            "28710     573320     22423  REGENCY CAKESTAND 3 TIER      16.0   \n",
            "29717     565380     22423  REGENCY CAKESTAND 3 TIER      16.0   \n",
            "30605     543987     22423  REGENCY CAKESTAND 3 TIER      16.0   \n",
            "31482     581179     22423  REGENCY CAKESTAND 3 TIER      64.0   \n",
            "33659     548409     22423  REGENCY CAKESTAND 3 TIER      16.0   \n",
            "34510     553901     22423  REGENCY CAKESTAND 3 TIER      16.0   \n",
            "34917     577718     22423  REGENCY CAKESTAND 3 TIER      32.0   \n",
            "37084     538191     22423  REGENCY CAKESTAND 3 TIER     272.0   \n",
            "\n",
            "            InvoiceDate  UnitPrice  CustomerID         Country  \n",
            "1338    2/24/2011 18:14      10.95     15189.0  United Kingdom  \n",
            "2321    3/28/2011 14:42      12.75     15611.0  United Kingdom  \n",
            "2672    1/24/2011 11:39      10.95     14439.0          Greece  \n",
            "3170    5/17/2011 16:23       5.00     13631.0  United Kingdom  \n",
            "4166    1/27/2011 13:38      10.95     16767.0  United Kingdom  \n",
            "5039    3/16/2011 14:54      10.95     15694.0  United Kingdom  \n",
            "5374    2/15/2011 15:49      10.95     17819.0  United Kingdom  \n",
            "5427   11/28/2011 15:35      12.75     12657.0          France  \n",
            "7813    1/14/2011 11:47      10.95     13854.0  United Kingdom  \n",
            "9679   12/20/2010 13:10      10.95     14298.0  United Kingdom  \n",
            "15857   11/7/2011 10:23      10.95     17761.0  United Kingdom  \n",
            "17924    4/7/2011 10:09      10.95     16144.0  United Kingdom  \n",
            "21634     3/2/2011 8:41      12.75     15416.0  United Kingdom  \n",
            "24548    8/18/2011 8:51      10.95     12415.0       Australia  \n",
            "25291   4/12/2011 10:58      12.75     13089.0  United Kingdom  \n",
            "26609   11/7/2011 15:33      10.95     17043.0  United Kingdom  \n",
            "27841   7/14/2011 14:08      10.95     12709.0         Germany  \n",
            "28374  12/16/2010 15:34      10.95     13408.0  United Kingdom  \n",
            "28710  10/30/2011 10:29      10.95     15513.0  United Kingdom  \n",
            "29717    9/2/2011 15:20      10.95     14463.0  United Kingdom  \n",
            "30605    2/15/2011 9:49      10.95     14849.0  United Kingdom  \n",
            "31482   12/7/2011 15:43      10.95     12471.0         Germany  \n",
            "33659   3/31/2011 10:27      10.95     12731.0          France  \n",
            "34510   5/19/2011 17:48      10.95     14911.0            EIRE  \n",
            "34917  11/21/2011 12:19      10.95     16013.0  United Kingdom  \n",
            "37084  12/10/2010 10:49      10.95     15061.0  United Kingdom  \n"
          ]
        }
      ]
    },
    {
      "cell_type": "code",
      "source": [
        "import pandas as pd\n",
        "import matplotlib.pyplot as plt\n",
        "import seaborn as sns\n",
        "\n",
        "# membaca file csv\n",
        "df = pd.read_csv('/content/drive/MyDrive/Classroom/ecommerce_lite.csv')\n",
        "\n",
        "# filter data hanya untuk kode stok '22423'\n",
        "df = df[df['StockCode'] == '22423']\n",
        "\n",
        "# membuat histogram dengan rentang bebas menggunakan seaborn\n",
        "sns.histplot(df['Quantity'], bins='auto')\n",
        "\n",
        "# memberikan label pada sumbu x dan y\n",
        "plt.xlabel('Quantity')\n",
        "plt.ylabel('Frequency')\n",
        "\n",
        "plt.figure(figsize=(15,10))\n",
        "\n",
        "# menampilkan grafik\n",
        "plt.show()\n"
      ],
      "metadata": {
        "colab": {
          "base_uri": "https://localhost:8080/",
          "height": 296
        },
        "id": "XuGvOowWrS1v",
        "outputId": "9745e97a-02aa-451f-dbbc-a3b7e39fae4e"
      },
      "execution_count": null,
      "outputs": [
        {
          "output_type": "display_data",
          "data": {
            "text/plain": [
              "<Figure size 432x288 with 1 Axes>"
            ],
            "image/png": "[encoded data removed]"
          },
          "metadata": {
            "needs_background": "light"
          }
        },
        {
          "output_type": "display_data",
          "data": {
            "text/plain": [
              "<Figure size 1080x720 with 0 Axes>"
            ]
          },
          "metadata": {}
        }
      ]
    },
    {
      "cell_type": "code",
      "source": [
        "import pandas as pd\n",
        "import matplotlib.pyplot as plt\n",
        "import seaborn as sns\n",
        "\n",
        "# membaca file csv\n",
        "df = pd.read_csv('/content/drive/MyDrive/Classroom/ecommerce_lite.csv')\n",
        "\n",
        "# filter data hanya untuk kode stok '22423'\n",
        "df = df[df['StockCode'] == '22423']\n",
        "\n",
        "# membuat visualisasi menggunakan seaborn\n",
        "sns.barplot(x='Country', y='Quantity', data=df)\n",
        "\n",
        "# menampilkan tabel\n",
        "table = pd.crosstab(df['Country'], columns='Quantity')\n",
        "print(table)\n",
        "plt.show()\n",
        "\n"
      ],
      "metadata": {
        "colab": {
          "base_uri": "https://localhost:8080/",
          "height": 453
        },
        "id": "1Zkw4qbxt8_1",
        "outputId": "de458711-f5a1-457a-9f44-652e0618188b"
      },
      "execution_count": null,
      "outputs": [
        {
          "output_type": "stream",
          "name": "stdout",
          "text": [
            "col_0           Quantity\n",
            "Country                 \n",
            "Australia              1\n",
            "Belgium                2\n",
            "EIRE                   6\n",
            "France                 5\n",
            "Germany                5\n",
            "Greece                 1\n",
            "Norway                 2\n",
            "United Kingdom       140\n"
          ]
        },
        {
          "output_type": "display_data",
          "data": {
            "text/plain": [
              "<Figure size 432x288 with 1 Axes>"
            ],
            "image/png": "[encoded data removed]"
          },
          "metadata": {
            "needs_background": "light"
          }
        }
      ]
    },
    {
      "cell_type": "code",
      "source": [],
      "metadata": {
        "id": "YR12cHMh18hY"
      },
      "execution_count": null,
      "outputs": []
    },
    {
      "cell_type": "code",
      "source": [
        "import pandas as pd\n",
        "import matplotlib.pyplot as plt\n",
        "import seaborn as sns\n",
        "\n",
        "# membaca file csv\n",
        "df = pd.read_csv('/content/drive/MyDrive/Classroom/ecommerce_lite.csv')\n",
        "\n",
        "# filter data hanya untuk kode stok '22423'\n",
        "df = df[df['StockCode'] == '22423']\n",
        "# menghitung total penjualan untuk setiap negara\n",
        "total_sales = df.groupby('Country')['Quantity'].sum()\n",
        "\n",
        "# menghitung persentase penjualan untuk setiap negara\n",
        "sales_percent = (total_sales / total_sales.sum()) * 100\n",
        "\n",
        "# menampilkan total penjualan dan persentase penjualan untuk setiap negara\n",
        "sales_data = pd.DataFrame({'Total Sales': total_sales, 'Sales Percentage': sales_percent})\n",
        "print(sales_data)\n",
        "\n",
        "# membuat visualisasi menggunakan seaborn\n",
        "sns.barplot(x=sales_percent.index, y=sales_percent.values)\n",
        "\n",
        "# menampilkan grafik\n",
        "plt.show()\n",
        "# membuat visualisasi tabel menggunakan pandas\n",
        "sales_data.style.format({'Sales Percentage': '{:.2f}%'})\n"
      ],
      "metadata": {
        "colab": {
          "base_uri": "https://localhost:8080/",
          "height": 767
        },
        "id": "CYEUFxIUwXy6",
        "outputId": "cbcdf842-7351-4ab0-e171-10cf05602ebf"
      },
      "execution_count": null,
      "outputs": [
        {
          "output_type": "stream",
          "name": "stdout",
          "text": [
            "                Total Sales  Sales Percentage\n",
            "Country                                      \n",
            "Australia              32.0          2.941176\n",
            "Belgium                 3.0          0.275735\n",
            "EIRE                   33.0          3.033088\n",
            "France                 34.0          3.125000\n",
            "Germany               105.0          9.650735\n",
            "Greece                 16.0          1.470588\n",
            "Norway                  4.0          0.367647\n",
            "United Kingdom        861.0         79.136029\n"
          ]
        },
        {
          "output_type": "display_data",
          "data": {
            "text/plain": [
              "<Figure size 432x288 with 1 Axes>"
            ],
            "image/png": "[encoded data removed]"
          },
          "metadata": {
            "needs_background": "light"
          }
        },
        {
          "output_type": "execute_result",
          "data": {
            "text/plain": [
              "<pandas.io.formats.style.Styler at 0x7fd73cd16940>"
            ],
            "text/html": [
              "<style type=\"text/css\">\n",
              "</style>\n",
              "<table id=\"T_98256_\" class=\"dataframe\">\n",
              "  <thead>\n",
              "    <tr>\n",
              "      <th class=\"blank level0\" >&nbsp;</th>\n",
              "      <th class=\"col_heading level0 col0\" >Total Sales</th>\n",
              "      <th class=\"col_heading level0 col1\" >Sales Percentage</th>\n",
              "    </tr>\n",
              "    <tr>\n",
              "      <th class=\"index_name level0\" >Country</th>\n",
              "      <th class=\"blank col0\" >&nbsp;</th>\n",
              "      <th class=\"blank col1\" >&nbsp;</th>\n",
              "    </tr>\n",
              "  </thead>\n",
              "  <tbody>\n",
              "    <tr>\n",
              "      <th id=\"T_98256_level0_row0\" class=\"row_heading level0 row0\" >Australia</th>\n",
              "      <td id=\"T_98256_row0_col0\" class=\"data row0 col0\" >32.000000</td>\n",
              "      <td id=\"T_98256_row0_col1\" class=\"data row0 col1\" >2.94%</td>\n",
              "    </tr>\n",
              "    <tr>\n",
              "      <th id=\"T_98256_level0_row1\" class=\"row_heading level0 row1\" >Belgium</th>\n",
              "      <td id=\"T_98256_row1_col0\" class=\"data row1 col0\" >3.000000</td>\n",
              "      <td id=\"T_98256_row1_col1\" class=\"data row1 col1\" >0.28%</td>\n",
              "    </tr>\n",
              "    <tr>\n",
              "      <th id=\"T_98256_level0_row2\" class=\"row_heading level0 row2\" >EIRE</th>\n",
              "      <td id=\"T_98256_row2_col0\" class=\"data row2 col0\" >33.000000</td>\n",
              "      <td id=\"T_98256_row2_col1\" class=\"data row2 col1\" >3.03%</td>\n",
              "    </tr>\n",
              "    <tr>\n",
              "      <th id=\"T_98256_level0_row3\" class=\"row_heading level0 row3\" >France</th>\n",
              "      <td id=\"T_98256_row3_col0\" class=\"data row3 col0\" >34.000000</td>\n",
              "      <td id=\"T_98256_row3_col1\" class=\"data row3 col1\" >3.12%</td>\n",
              "    </tr>\n",
              "    <tr>\n",
              "      <th id=\"T_98256_level0_row4\" class=\"row_heading level0 row4\" >Germany</th>\n",
              "      <td id=\"T_98256_row4_col0\" class=\"data row4 col0\" >105.000000</td>\n",
              "      <td id=\"T_98256_row4_col1\" class=\"data row4 col1\" >9.65%</td>\n",
              "    </tr>\n",
              "    <tr>\n",
              "      <th id=\"T_98256_level0_row5\" class=\"row_heading level0 row5\" >Greece</th>\n",
              "      <td id=\"T_98256_row5_col0\" class=\"data row5 col0\" >16.000000</td>\n",
              "      <td id=\"T_98256_row5_col1\" class=\"data row5 col1\" >1.47%</td>\n",
              "    </tr>\n",
              "    <tr>\n",
              "      <th id=\"T_98256_level0_row6\" class=\"row_heading level0 row6\" >Norway</th>\n",
              "      <td id=\"T_98256_row6_col0\" class=\"data row6 col0\" >4.000000</td>\n",
              "      <td id=\"T_98256_row6_col1\" class=\"data row6 col1\" >0.37%</td>\n",
              "    </tr>\n",
              "    <tr>\n",
              "      <th id=\"T_98256_level0_row7\" class=\"row_heading level0 row7\" >United Kingdom</th>\n",
              "      <td id=\"T_98256_row7_col0\" class=\"data row7 col0\" >861.000000</td>\n",
              "      <td id=\"T_98256_row7_col1\" class=\"data row7 col1\" >79.14%</td>\n",
              "    </tr>\n",
              "  </tbody>\n",
              "</table>\n"
            ]
          },
          "metadata": {},
          "execution_count": 36
        }
      ]
    },
    {
      "cell_type": "code",
      "source": [
        "import pandas as pd\n",
        "import matplotlib.pyplot as plt\n",
        "import seaborn as sns\n",
        "\n",
        "# membaca file csv\n",
        "df = pd.read_csv('/content/drive/MyDrive/Classroom/ecommerce_lite.csv')\n",
        "\n",
        "# menghitung total penjualan untuk setiap kode stok\n",
        "total_sales = df.groupby('StockCode')['Quantity'].sum()\n",
        "\n",
        "# mengambil lima item dengan penjualan teratas\n",
        "top_sales = total_sales.sort_values(ascending=False).head(5)\n",
        "\n",
        "# menampilkan lima item dengan penjualan teratas beserta total penjualan\n",
        "sales_data = pd.DataFrame({'Total Sales': top_sales})\n",
        "sales_data.index.name = 'StockCode'\n",
        "sales_data.reset_index(inplace=True)\n",
        "print(sales_data)\n",
        "\n",
        "# membuat visualisasi menggunakan seaborn\n",
        "sns.barplot(x='StockCode', y='Total Sales', data=sales_data, hue='StockCode')\n",
        "\n",
        "# menampilkan grafik\n",
        "plt.show()\n"
      ],
      "metadata": {
        "colab": {
          "base_uri": "https://localhost:8080/",
          "height": 383
        },
        "id": "j23NHNAR1-qo",
        "outputId": "e9b49730-c049-4782-98e5-e9bcec08f9b4"
      },
      "execution_count": null,
      "outputs": [
        {
          "output_type": "stream",
          "name": "stdout",
          "text": [
            "  StockCode  Total Sales\n",
            "0     22197       7770.0\n",
            "1    85099B       6675.0\n",
            "2    85123A       6461.0\n",
            "3     84077       3916.0\n",
            "4     21212       3629.0\n"
          ]
        },
        {
          "output_type": "display_data",
          "data": {
            "text/plain": [
              "<Figure size 432x288 with 1 Axes>"
            ],
            "image/png": "[encoded data removed]"
          },
          "metadata": {
            "needs_background": "light"
          }
        }
      ]
    }
  ]
}